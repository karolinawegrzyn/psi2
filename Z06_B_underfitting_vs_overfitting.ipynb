{
  "cells": [
    {
      "cell_type": "markdown",
      "metadata": {
        "id": "H_oaHCmGXmkz"
      },
      "source": [
        "# Underfitting vs. Overfitting"
      ]
    },
    {
      "cell_type": "code",
      "execution_count": 1,
      "metadata": {
        "id": "EA8HFyJCXmk4"
      },
      "outputs": [],
      "source": [
        "import numpy as np\n",
        "import matplotlib.pyplot as plt\n",
        "from sklearn.pipeline import Pipeline\n",
        "from sklearn.pipeline import make_pipeline\n",
        "from sklearn.preprocessing import PolynomialFeatures\n",
        "from sklearn.linear_model import LinearRegression\n",
        "from sklearn.model_selection import cross_val_score\n",
        "from sklearn import  metrics"
      ]
    },
    {
      "cell_type": "markdown",
      "metadata": {
        "id": "UsREfAq0Xmk-"
      },
      "source": [
        "Rozważmy następujący zbiór punktów:"
      ]
    },
    {
      "cell_type": "code",
      "execution_count": 2,
      "metadata": {
        "id": "7kQ-cQC_XmlD"
      },
      "outputs": [],
      "source": [
        "np.random.seed(0)\n",
        "n_samples = 30\n",
        "true_fun = lambda X: np.cos(1.5 * np.pi * X)\n",
        "X = np.sort(np.random.rand(n_samples))\n",
        "y = true_fun(X) + np.random.randn(n_samples) * 0.1"
      ]
    },
    {
      "cell_type": "code",
      "execution_count": 3,
      "metadata": {
        "id": "XljAywlDXmlJ",
        "outputId": "6200182f-0038-46e6-a38c-069ab35f93a7",
        "colab": {
          "base_uri": "https://localhost:8080/",
          "height": 378
        }
      },
      "outputs": [
        {
          "output_type": "display_data",
          "data": {
            "text/plain": [
              "<Figure size 432x432 with 1 Axes>"
            ],
            "image/png": "[encoded data removed]"
          },
          "metadata": {
            "needs_background": "light"
          }
        }
      ],
      "source": [
        "# Plot outputs\n",
        "plt.figure(figsize=(6,6));\n",
        "axes = plt.gca()\n",
        "axes.set_xlim([0,1])\n",
        "axes.set_ylim([-1.5,1.5])\n",
        "plt.scatter(X, y,  color='black')\n",
        "x_tr = np.linspace(0, 1, 200)\n",
        "plt.show()"
      ]
    },
    {
      "cell_type": "markdown",
      "metadata": {
        "id": "8VykCAVeXmlN"
      },
      "source": [
        "Podziel dane na dwie grupy."
      ]
    },
    {
      "cell_type": "code",
      "execution_count": 4,
      "metadata": {
        "id": "QiF8qeV_XmlP",
        "outputId": "c98589c0-0c5a-40af-d775-b5e749228215",
        "colab": {
          "base_uri": "https://localhost:8080/",
          "height": 378
        }
      },
      "outputs": [
        {
          "output_type": "display_data",
          "data": {
            "text/plain": [
              "<Figure size 432x432 with 1 Axes>"
            ],
            "image/png": "[encoded data removed]"
          },
          "metadata": {
            "needs_background": "light"
          }
        }
      ],
      "source": [
        "s=np.random.random_sample(n_samples)\n",
        "s[s>0.5]=1\n",
        "s[s<=0.5]=0\n",
        "s\n",
        "X1=X[s==1]\n",
        "y1=y[s==1]\n",
        "X2=X[s==0]\n",
        "y2=y[s==0]\n",
        "\n",
        "# Plot outputs\n",
        "plt.figure(figsize=(6,6));\n",
        "axes = plt.gca()\n",
        "axes.set_xlim([0,1])\n",
        "axes.set_ylim([-1.5,1.5])\n",
        "plt.scatter(X1, y1,  color='blue')\n",
        "plt.scatter(X2, y2,  color='red')\n",
        "x_tr = np.linspace(0, 1, 200)\n",
        "plt.show()"
      ]
    },
    {
      "cell_type": "markdown",
      "metadata": {
        "id": "bPWFK59pXmlR"
      },
      "source": [
        "# Zadanie\n",
        "Wykonaj regresję:\n",
        "\n",
        "* liniową\n",
        "* wielomianową stopnia 20\n",
        "\n",
        "w każdej z grup."
      ]
    },
    {
      "cell_type": "code",
      "execution_count": 6,
      "metadata": {
        "collapsed": true,
        "id": "TAHB1JECXmlU"
      },
      "outputs": [],
      "source": [
        "from sklearn.preprocessing import PolynomialFeatures\n",
        "from sklearn.pipeline import make_pipeline\n",
        "from sklearn import  metrics\n",
        "import sklearn.linear_model as lm"
      ]
    },
    {
      "cell_type": "code",
      "execution_count": 9,
      "metadata": {
        "id": "F11etlrAXmlY",
        "outputId": "d4540465-8bc2-4cab-845a-4a83c9b3d2bd",
        "colab": {
          "base_uri": "https://localhost:8080/",
          "height": 378
        }
      },
      "outputs": [
        {
          "output_type": "display_data",
          "data": {
            "text/plain": [
              "<Figure size 432x432 with 1 Axes>"
            ],
            "image/png": "[encoded data removed]"
          },
          "metadata": {
            "needs_background": "light"
          }
        }
      ],
      "source": [
        "X1=np.vstack(X1)\n",
        "X2=np.vstack(X2)\n",
        "\n",
        "model1=lm.LinearRegression()\n",
        "model1.fit(X1, y1)\n",
        "f_model=lambda x: model1.coef_ *x + model1.intercept_\n",
        "x_f_model1=np.linspace(0.,1,200)\n",
        "y_f_model1=f_model(x_f_model1)\n",
        "\n",
        "model2=lm.LinearRegression()\n",
        "model2.fit(X2, y2)\n",
        "\n",
        "plt.figure(figsize=(6,6));\n",
        "axes = plt.gca()\n",
        "axes.set_xlim([0,1])\n",
        "axes.set_ylim([-1.5,1.5])\n",
        "plt.scatter(X1, y1,  color='blue')\n",
        "plt.plot(x_f_model1,y_f_model1,'b')\n",
        "plt.scatter(X2, y2,  color='red')\n",
        "plt.plot(X2,model2.predict(X2),'r')\n",
        "x_tr = np.linspace(0, 1, 200)\n",
        "plt.show()\n",
        "\n"
      ]
    },
    {
      "cell_type": "code",
      "execution_count": 10,
      "metadata": {
        "id": "2euhkRCsXmla",
        "outputId": "b2d62038-b2ab-4419-dd71-1747de0d8502",
        "colab": {
          "base_uri": "https://localhost:8080/",
          "height": 378
        }
      },
      "outputs": [
        {
          "output_type": "display_data",
          "data": {
            "text/plain": [
              "<Figure size 432x432 with 1 Axes>"
            ],
            "image/png": "[encoded data removed]"
          },
          "metadata": {
            "needs_background": "light"
          }
        }
      ],
      "source": [
        "model3 = make_pipeline(PolynomialFeatures(20), lm.LinearRegression())\n",
        "model3.fit(X1, y1)\n",
        "\n",
        "model4 = make_pipeline(PolynomialFeatures(20), lm.LinearRegression())\n",
        "model4.fit(X2, y2)\n",
        "\n",
        "x_tr=np.linspace(0,10,1000)\n",
        "x_tr=np.vstack(x_tr)\n",
        "\n",
        "plt.figure(figsize=(6,6));\n",
        "axes = plt.gca()\n",
        "axes.set_xlim([0,1])\n",
        "axes.set_ylim([-1.5,1.5])\n",
        "plt.scatter(X1, y1,  color='blue')\n",
        "plt.plot(x_tr, model3.predict(x_tr),'b')\n",
        "plt.scatter(X2, y2,  color='red')\n",
        "plt.plot(x_tr, model4.predict(x_tr),'r')\n",
        "x_tr = np.linspace(0, 1, 200)\n",
        "plt.show()"
      ]
    },
    {
      "cell_type": "markdown",
      "metadata": {
        "id": "Hl3D4EnAXmld"
      },
      "source": [
        "# Zadanie\n",
        "Wykonaj 100 podziałów na dwie równe części. Za każdym razem naucz regresję:\n",
        "\n",
        "* liniową\n",
        "* wielomianową stopnia 1, 2, 3, 4, 5, 6\n",
        "\n",
        "na jednym fragmęcie i policz R_square na drugim.\n",
        "Zwizualizuj wynik.\n"
      ]
    },
    {
      "cell_type": "code",
      "execution_count": 14,
      "metadata": {
        "id": "XPqtRB6IXmlf",
        "outputId": "a1564f34-7feb-4c5b-c27d-35f16aace6fa",
        "colab": {
          "base_uri": "https://localhost:8080/"
        }
      },
      "outputs": [
        {
          "output_type": "stream",
          "name": "stdout",
          "text": [
            "degree: 1\n",
            "0.30794377100735065\n",
            "0.40353603399041754\n",
            "degree: 2\n",
            "0.8631870190037338\n",
            "0.18500875263202796\n",
            "degree: 3\n",
            "0.8540046827513738\n",
            "0.5144984895931847\n",
            "degree: 4\n",
            "-18.528121893429855\n",
            "187.04933937894236\n",
            "degree: 5\n",
            "-1319.1324149133209\n",
            "13057.366041748948\n",
            "degree: 6\n",
            "-588.6212508052511\n",
            "4307.821889208074\n"
          ]
        }
      ],
      "source": [
        "R_degree = {\n",
        "    1: [],\n",
        "    2: [],\n",
        "    3: [],\n",
        "    4: [],\n",
        "    5: [],\n",
        "    6: [],\n",
        "}\n",
        "\n",
        "for i in range(100):\n",
        "  s = np.random.random_sample(n_samples)\n",
        "  s[s>0.5] = 1\n",
        "  s[s<=0.5] = 0\n",
        "  s\n",
        "  X1=X[s==1]\n",
        "  y1=y[s==1]\n",
        "  X2=X[s==0]\n",
        "  y2=y[s==0]\n",
        "\n",
        "  X1=np.vstack(X1)\n",
        "  X2=np.vstack(X2)\n",
        "  for degree in range(1, 7):\n",
        "    model = make_pipeline(PolynomialFeatures(degree), lm.LinearRegression())\n",
        "    model.fit(X1,y1)\n",
        "    R_degree[degree].append(metrics.explained_variance_score(y2, model.predict(X2)))\n",
        "\n",
        "for degree in range(1, 7):\n",
        "  print(\"degree:\", degree)\n",
        "  print(np.mean(R_degree[degree]))\n",
        "  print(np.std(R_degree[degree]))"
      ]
    }
  ],
  "metadata": {
    "kernelspec": {
      "display_name": "Python 3",
      "language": "python",
      "name": "python3"
    },
    "language_info": {
      "codemirror_mode": {
        "name": "ipython",
        "version": 3
      },
      "file_extension": ".py",
      "mimetype": "text/x-python",
      "name": "python",
      "nbconvert_exporter": "python",
      "pygments_lexer": "ipython3",
      "version": "3.8.5"
    },
    "colab": {
      "name": "Z06_B_underfitting_vs_overfitting.ipynb",
      "provenance": []
    }
  },
  "nbformat": 4,
  "nbformat_minor": 0
}