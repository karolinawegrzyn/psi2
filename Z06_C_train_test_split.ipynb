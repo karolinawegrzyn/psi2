{
  "cells": [
    {
      "cell_type": "markdown",
      "metadata": {
        "id": "0AIv6-c0ZGG1"
      },
      "source": [
        "# Train test split\n"
      ]
    },
    {
      "cell_type": "code",
      "execution_count": 1,
      "metadata": {
        "collapsed": true,
        "id": "16K9bF-KZGG8"
      },
      "outputs": [],
      "source": [
        "import numpy as np\n",
        "import pandas as pd\n",
        "import scipy.stats as stats\n",
        "import sklearn.linear_model as lm\n",
        "from sklearn import datasets, linear_model\n",
        "import matplotlib.pyplot as plt\n",
        "\n",
        "from sklearn.preprocessing import PolynomialFeatures\n",
        "from sklearn.pipeline import make_pipeline\n",
        "\n",
        "from sklearn import  metrics"
      ]
    },
    {
      "cell_type": "markdown",
      "metadata": {
        "id": "qGEJ3xWGZGHF"
      },
      "source": [
        "Rozważmy następujący zbiór punktów:"
      ]
    },
    {
      "cell_type": "code",
      "execution_count": 2,
      "metadata": {
        "id": "JzyxYFHJZGHJ",
        "outputId": "34ece2d7-d3bc-423e-fd3a-d3a842c65d0a",
        "colab": {
          "base_uri": "https://localhost:8080/",
          "height": 265
        }
      },
      "outputs": [
        {
          "output_type": "display_data",
          "data": {
            "text/plain": [
              "<Figure size 432x288 with 1 Axes>"
            ],
            "image/png": "[encoded data removed]"
          },
          "metadata": {
            "needs_background": "light"
          }
        }
      ],
      "source": [
        "x = stats.uniform(0,3).rvs(100)\n",
        "f = lambda x: ((x*2-1)*(x**2-2)*(x-2)+3)\n",
        "y = f(x) + stats.norm(0,0.3).rvs(len(x))\n",
        "plt.plot(x, y, 'ok', ms=10);\n",
        "plt.show()"
      ]
    },
    {
      "cell_type": "markdown",
      "metadata": {
        "id": "CF2vCmdvZGHO"
      },
      "source": [
        "# Przykład\n",
        "Podziel zbiór danych na część testową i treningową. \n",
        "Naucz model na części treningowej i ocen wyniki na części testowej."
      ]
    },
    {
      "cell_type": "code",
      "execution_count": 3,
      "metadata": {
        "id": "K8hEk6tMZGHT",
        "outputId": "1d8a0c49-37e1-4341-e520-d13a388552e1",
        "colab": {
          "base_uri": "https://localhost:8080/"
        }
      },
      "outputs": [
        {
          "output_type": "stream",
          "name": "stdout",
          "text": [
            "(60,) (60,)\n",
            "(40,) (40,)\n"
          ]
        }
      ],
      "source": [
        "from sklearn.model_selection import train_test_split\n",
        "X_train, X_test, y_train, y_test = train_test_split(x, y, test_size=0.4, random_state=0)\n",
        "\n",
        "print(X_train.shape, y_train.shape)\n",
        "print(X_test.shape, y_test.shape)"
      ]
    },
    {
      "cell_type": "code",
      "execution_count": 4,
      "metadata": {
        "collapsed": true,
        "id": "CMPjRbbTZGHX"
      },
      "outputs": [],
      "source": [
        "X_train=np.vstack(X_train)\n",
        "X_test=np.vstack(X_test)"
      ]
    },
    {
      "cell_type": "code",
      "execution_count": 5,
      "metadata": {
        "id": "eRhx2uKRZGHZ",
        "outputId": "99fc0d5f-c34e-4c07-a6cd-f39c6180782d",
        "colab": {
          "base_uri": "https://localhost:8080/"
        }
      },
      "outputs": [
        {
          "output_type": "execute_result",
          "data": {
            "text/plain": [
              "array([ 7.31174991e-01,  1.41379034e+00,  1.32071546e+00,  1.22818000e+01,\n",
              "        1.25288865e+01,  6.13066128e+00,  4.95968217e-01,  6.01228575e+00,\n",
              "        3.71215343e+00, -4.15790694e-02,  3.70145747e-02,  1.64548117e+00,\n",
              "        1.26791808e+01,  2.06862107e+01,  2.59754505e+00,  4.07694535e+00,\n",
              "        1.72865261e+00, -3.73789727e-02,  7.87976519e-02,  5.45918420e+00,\n",
              "        2.37391624e+00,  9.42802206e-01,  7.65449307e+00,  1.05298507e-02,\n",
              "        3.32907227e-01,  2.00250093e+01,  6.16908464e-01,  6.98380867e-01,\n",
              "        2.09331665e+00,  2.04584003e+00,  2.12237266e+00,  1.67356641e+01,\n",
              "        2.62094218e-01, -3.57784343e-02,  2.52408442e+00,  6.35821788e+00,\n",
              "        1.22251344e+00,  2.40779538e+00,  5.37741526e+00,  3.54652704e-01])"
            ]
          },
          "metadata": {},
          "execution_count": 5
        }
      ],
      "source": [
        "model2 = make_pipeline(PolynomialFeatures(2), linear_model.LinearRegression())\n",
        "model2.fit(X_train, y_train)\n",
        "model2.predict(X_test)"
      ]
    },
    {
      "cell_type": "code",
      "execution_count": 6,
      "metadata": {
        "id": "gXxizEPWZGHb",
        "outputId": "726598c9-e8a8-498e-b1c3-a601a39080d3",
        "colab": {
          "base_uri": "https://localhost:8080/"
        }
      },
      "outputs": [
        {
          "output_type": "stream",
          "name": "stdout",
          "text": [
            "Explained variance score: 0.7196601201390475\n",
            "Explained variance score: 0.7196601201390475\n",
            "Median absolute error: 2.811872043579533\n",
            "Mean squared error: 11.41363799363141\n",
            "Mean absolute errors: 2.7953539334218234\n"
          ]
        }
      ],
      "source": [
        "print(\"Explained variance score: {}\".format( metrics.explained_variance_score(y_test, model2.predict(X_test)) ))\n",
        "print(\"Explained variance score: {}\".format( metrics.explained_variance_score(y_test, model2.predict(X_test)) ))\n",
        "print(\"Median absolute error: {}\".format( metrics.median_absolute_error(y_test, model2.predict(X_test)) ))\n",
        "print(\"Mean squared error: {}\".format( metrics.mean_squared_error(y_test, model2.predict(X_test)) ))\n",
        "print(\"Mean absolute errors: {}\".format(metrics.mean_absolute_error(y_test, model2.predict(X_test)) ))"
      ]
    },
    {
      "cell_type": "markdown",
      "metadata": {
        "id": "1UscmvEQZGHd"
      },
      "source": [
        "# Zadanie\n",
        "Wylicz powyższe miary na zbiorze testowym dla wszystkich modeli nauczonych na trainie:\n",
        "\n",
        "- regrsji linowej\n",
        "- regrsji wielomianowej stopnia 2\n",
        "- regrsji wielomianowej stopnia 3\n",
        "- regrsji wielomianowej stopnia 4\n",
        "- regrsji wielomianowej stopnia 5\n",
        "- regrsji wielomianowej stopnia 25"
      ]
    },
    {
      "cell_type": "code",
      "execution_count": 8,
      "metadata": {
        "collapsed": true,
        "id": "RlDeIieaZGHe",
        "outputId": "dcdc812d-92c3-4e4e-9d96-6d2dc45da88c",
        "colab": {
          "base_uri": "https://localhost:8080/"
        }
      },
      "outputs": [
        {
          "output_type": "stream",
          "name": "stdout",
          "text": [
            "degree 1\n",
            "Explained variance score: 0.7196601201390475\n",
            "Median absolute error: 2.811872043579533\n",
            "Mean squared error: 11.41363799363141\n",
            "Mean absolute errors: 2.7953539334218234\n",
            "degree 2\n",
            "Explained variance score: 0.7196601201390475\n",
            "Median absolute error: 2.811872043579533\n",
            "Mean squared error: 11.41363799363141\n",
            "Mean absolute errors: 2.7953539334218234\n",
            "degree 3\n",
            "Explained variance score: 0.7196601201390475\n",
            "Median absolute error: 2.811872043579533\n",
            "Mean squared error: 11.41363799363141\n",
            "Mean absolute errors: 2.7953539334218234\n",
            "degree 4\n",
            "Explained variance score: 0.7196601201390475\n",
            "Median absolute error: 2.811872043579533\n",
            "Mean squared error: 11.41363799363141\n",
            "Mean absolute errors: 2.7953539334218234\n",
            "degree 5\n",
            "Explained variance score: 0.7196601201390475\n",
            "Median absolute error: 2.811872043579533\n",
            "Mean squared error: 11.41363799363141\n",
            "Mean absolute errors: 2.7953539334218234\n",
            "degree 25\n",
            "Explained variance score: 0.7196601201390475\n",
            "Median absolute error: 2.811872043579533\n",
            "Mean squared error: 11.41363799363141\n",
            "Mean absolute errors: 2.7953539334218234\n"
          ]
        }
      ],
      "source": [
        "degrees = [1, 2, 3, 4, 5, 25]\n",
        "for degree in degrees:\n",
        "  model = make_pipeline(PolynomialFeatures(degree), lm.LinearRegression())\n",
        "  model.fit(X_train, y_train)\n",
        "  print(\"degree\", degree)\n",
        "  print(\"Explained variance score: {}\".format( metrics.explained_variance_score(y_test, model2.predict(X_test)) ))\n",
        "  print(\"Median absolute error: {}\".format( metrics.median_absolute_error(y_test, model2.predict(X_test)) ))\n",
        "  print(\"Mean squared error: {}\".format( metrics.mean_squared_error(y_test, model2.predict(X_test)) ))\n",
        "  print(\"Mean absolute errors: {}\".format(metrics.mean_absolute_error(y_test, model2.predict(X_test)) ))"
      ]
    }
  ],
  "metadata": {
    "kernelspec": {
      "display_name": "Python 3",
      "language": "python",
      "name": "python3"
    },
    "language_info": {
      "codemirror_mode": {
        "name": "ipython",
        "version": 3
      },
      "file_extension": ".py",
      "mimetype": "text/x-python",
      "name": "python",
      "nbconvert_exporter": "python",
      "pygments_lexer": "ipython3",
      "version": "3.8.5"
    },
    "colab": {
      "name": "Z06_C_train_test_split.ipynb",
      "provenance": []
    }
  },
  "nbformat": 4,
  "nbformat_minor": 0
}